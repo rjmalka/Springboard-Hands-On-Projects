{
 "cells": [
  {
   "cell_type": "code",
   "execution_count": 1,
   "metadata": {},
   "outputs": [
    {
     "name": "stdout",
     "output_type": "stream",
     "text": [
      "Requirement already satisfied: ipython-sql in c:\\users\\robert malka\\anaconda3\\lib\\site-packages (0.4.0)\n",
      "Requirement already satisfied: prettytable<1 in c:\\users\\robert malka\\anaconda3\\lib\\site-packages (from ipython-sql) (0.7.2)\n",
      "Requirement already satisfied: ipython>=1.0 in c:\\users\\robert malka\\anaconda3\\lib\\site-packages (from ipython-sql) (7.8.0)\n",
      "Requirement already satisfied: six in c:\\users\\robert malka\\anaconda3\\lib\\site-packages (from ipython-sql) (1.12.0)\n",
      "Requirement already satisfied: sqlparse in c:\\users\\robert malka\\anaconda3\\lib\\site-packages (from ipython-sql) (0.3.1)\n",
      "Requirement already satisfied: sqlalchemy>=0.6.7 in c:\\users\\robert malka\\anaconda3\\lib\\site-packages (from ipython-sql) (1.3.9)\n",
      "Requirement already satisfied: ipython-genutils>=0.1.0 in c:\\users\\robert malka\\anaconda3\\lib\\site-packages (from ipython-sql) (0.2.0)\n",
      "Requirement already satisfied: traitlets>=4.2 in c:\\users\\robert malka\\anaconda3\\lib\\site-packages (from ipython>=1.0->ipython-sql) (4.3.3)\n",
      "Requirement already satisfied: setuptools>=18.5 in c:\\users\\robert malka\\anaconda3\\lib\\site-packages (from ipython>=1.0->ipython-sql) (41.4.0)\n",
      "Requirement already satisfied: backcall in c:\\users\\robert malka\\anaconda3\\lib\\site-packages (from ipython>=1.0->ipython-sql) (0.1.0)\n",
      "Requirement already satisfied: pickleshare in c:\\users\\robert malka\\anaconda3\\lib\\site-packages (from ipython>=1.0->ipython-sql) (0.7.5)\n",
      "Requirement already satisfied: decorator in c:\\users\\robert malka\\anaconda3\\lib\\site-packages (from ipython>=1.0->ipython-sql) (4.4.0)\n",
      "Requirement already satisfied: jedi>=0.10 in c:\\users\\robert malka\\anaconda3\\lib\\site-packages (from ipython>=1.0->ipython-sql) (0.15.1)\n",
      "Requirement already satisfied: colorama; sys_platform == \"win32\" in c:\\users\\robert malka\\anaconda3\\lib\\site-packages (from ipython>=1.0->ipython-sql) (0.4.1)\n",
      "Requirement already satisfied: pygments in c:\\users\\robert malka\\anaconda3\\lib\\site-packages (from ipython>=1.0->ipython-sql) (2.4.2)\n",
      "Requirement already satisfied: prompt-toolkit<2.1.0,>=2.0.0 in c:\\users\\robert malka\\anaconda3\\lib\\site-packages (from ipython>=1.0->ipython-sql) (2.0.10)\n",
      "Requirement already satisfied: parso>=0.5.0 in c:\\users\\robert malka\\anaconda3\\lib\\site-packages (from jedi>=0.10->ipython>=1.0->ipython-sql) (0.5.1)\n",
      "Requirement already satisfied: wcwidth in c:\\users\\robert malka\\anaconda3\\lib\\site-packages (from prompt-toolkit<2.1.0,>=2.0.0->ipython>=1.0->ipython-sql) (0.1.7)\n"
     ]
    },
    {
     "name": "stderr",
     "output_type": "stream",
     "text": [
      "WARNING: You are using pip version 20.1; however, version 20.2.2 is available.\n",
      "You should consider upgrading via the 'c:\\users\\robert malka\\anaconda3\\python.exe -m pip install --upgrade pip' command.\n"
     ]
    }
   ],
   "source": [
    "!pip install ipython-sql"
   ]
  },
  {
   "cell_type": "code",
   "execution_count": 2,
   "metadata": {},
   "outputs": [
    {
     "name": "stdout",
     "output_type": "stream",
     "text": [
      "Requirement already satisfied: pyodbc in c:\\users\\robert malka\\anaconda3\\lib\\site-packages (4.0.27)\n"
     ]
    },
    {
     "name": "stderr",
     "output_type": "stream",
     "text": [
      "WARNING: You are using pip version 20.1; however, version 20.2.2 is available.\n",
      "You should consider upgrading via the 'c:\\users\\robert malka\\anaconda3\\python.exe -m pip install --upgrade pip' command.\n"
     ]
    }
   ],
   "source": [
    "!pip install pyodbc"
   ]
  },
  {
   "cell_type": "code",
   "execution_count": 3,
   "metadata": {},
   "outputs": [
    {
     "name": "stdout",
     "output_type": "stream",
     "text": [
      "Requirement already satisfied: mysql in c:\\users\\robert malka\\anaconda3\\lib\\site-packages (0.0.2)\n",
      "Requirement already satisfied: mysqlclient in c:\\users\\robert malka\\anaconda3\\lib\\site-packages (from mysql) (2.0.1)\n"
     ]
    },
    {
     "name": "stderr",
     "output_type": "stream",
     "text": [
      "WARNING: You are using pip version 20.1; however, version 20.2.2 is available.\n",
      "You should consider upgrading via the 'c:\\users\\robert malka\\anaconda3\\python.exe -m pip install --upgrade pip' command.\n"
     ]
    }
   ],
   "source": [
    "!pip install mysql"
   ]
  },
  {
   "cell_type": "code",
   "execution_count": 4,
   "metadata": {},
   "outputs": [
    {
     "name": "stdout",
     "output_type": "stream",
     "text": [
      "Requirement already satisfied: psycopg2 in c:\\users\\robert malka\\anaconda3\\lib\\site-packages (2.8.5)\n"
     ]
    },
    {
     "name": "stderr",
     "output_type": "stream",
     "text": [
      "WARNING: You are using pip version 20.1; however, version 20.2.2 is available.\n",
      "You should consider upgrading via the 'c:\\users\\robert malka\\anaconda3\\python.exe -m pip install --upgrade pip' command.\n"
     ]
    }
   ],
   "source": [
    "!pip install psycopg2"
   ]
  },
  {
   "cell_type": "code",
   "execution_count": 5,
   "metadata": {},
   "outputs": [
    {
     "name": "stdout",
     "output_type": "stream",
     "text": [
      "Requirement already satisfied: sqlalchemy in c:\\users\\robert malka\\anaconda3\\lib\\site-packages (1.3.9)\n"
     ]
    },
    {
     "name": "stderr",
     "output_type": "stream",
     "text": [
      "WARNING: You are using pip version 20.1; however, version 20.2.2 is available.\n",
      "You should consider upgrading via the 'c:\\users\\robert malka\\anaconda3\\python.exe -m pip install --upgrade pip' command.\n"
     ]
    }
   ],
   "source": [
    "!pip install sqlalchemy"
   ]
  },
  {
   "cell_type": "code",
   "execution_count": 6,
   "metadata": {},
   "outputs": [
    {
     "ename": "ModuleNotFoundError",
     "evalue": "No module named 'mysql'",
     "output_type": "error",
     "traceback": [
      "\u001b[1;31m---------------------------------------------------------------------------\u001b[0m",
      "\u001b[1;31mModuleNotFoundError\u001b[0m                       Traceback (most recent call last)",
      "\u001b[1;32m<ipython-input-6-ac0c7a3c0da3>\u001b[0m in \u001b[0;36m<module>\u001b[1;34m\u001b[0m\n\u001b[0;32m      2\u001b[0m \u001b[1;32mimport\u001b[0m \u001b[0mpsycopg2\u001b[0m\u001b[1;33m\u001b[0m\u001b[1;33m\u001b[0m\u001b[0m\n\u001b[0;32m      3\u001b[0m \u001b[1;32mimport\u001b[0m \u001b[0msqlalchemy\u001b[0m\u001b[1;33m\u001b[0m\u001b[1;33m\u001b[0m\u001b[0m\n\u001b[1;32m----> 4\u001b[1;33m \u001b[1;32mimport\u001b[0m \u001b[0mmysql\u001b[0m\u001b[1;33m\u001b[0m\u001b[1;33m\u001b[0m\u001b[0m\n\u001b[0m",
      "\u001b[1;31mModuleNotFoundError\u001b[0m: No module named 'mysql'"
     ]
    }
   ],
   "source": [
    "import pyodbc\n",
    "import psycopg2\n",
    "import sqlalchemy\n",
    "#import mysql"
   ]
  },
  {
   "cell_type": "code",
   "execution_count": 7,
   "metadata": {},
   "outputs": [
    {
     "name": "stderr",
     "output_type": "stream",
     "text": [
      "ERROR: Could not find a version that satisfies the requirement sqlite3 (from versions: none)\n",
      "ERROR: No matching distribution found for sqlite3\n",
      "WARNING: You are using pip version 20.1; however, version 20.2.2 is available.\n",
      "You should consider upgrading via the 'c:\\users\\robert malka\\anaconda3\\python.exe -m pip install --upgrade pip' command.\n"
     ]
    }
   ],
   "source": [
    "!pip install sqlite3"
   ]
  },
  {
   "cell_type": "code",
   "execution_count": 8,
   "metadata": {},
   "outputs": [],
   "source": [
    "import sqlite3"
   ]
  },
  {
   "cell_type": "code",
   "execution_count": 51,
   "metadata": {},
   "outputs": [
    {
     "name": "stdout",
     "output_type": "stream",
     "text": [
      "2.6.0\n",
      "2. Query all tasks\n"
     ]
    },
    {
     "ename": "OperationalError",
     "evalue": "no such function: MONTH",
     "output_type": "error",
     "traceback": [
      "\u001b[1;31m---------------------------------------------------------------------------\u001b[0m",
      "\u001b[1;31mOperationalError\u001b[0m                          Traceback (most recent call last)",
      "\u001b[1;32m<ipython-input-51-90440c8b04c2>\u001b[0m in \u001b[0;36m<module>\u001b[1;34m\u001b[0m\n\u001b[0;32m     56\u001b[0m \u001b[1;33m\u001b[0m\u001b[0m\n\u001b[0;32m     57\u001b[0m \u001b[1;32mif\u001b[0m \u001b[0m__name__\u001b[0m \u001b[1;33m==\u001b[0m \u001b[1;34m'__main__'\u001b[0m\u001b[1;33m:\u001b[0m\u001b[1;33m\u001b[0m\u001b[1;33m\u001b[0m\u001b[0m\n\u001b[1;32m---> 58\u001b[1;33m     \u001b[0mmain\u001b[0m\u001b[1;33m(\u001b[0m\u001b[1;33m)\u001b[0m\u001b[1;33m\u001b[0m\u001b[1;33m\u001b[0m\u001b[0m\n\u001b[0m",
      "\u001b[1;32m<ipython-input-51-90440c8b04c2>\u001b[0m in \u001b[0;36mmain\u001b[1;34m()\u001b[0m\n\u001b[0;32m     52\u001b[0m     \u001b[1;32mwith\u001b[0m \u001b[0mconn\u001b[0m\u001b[1;33m:\u001b[0m\u001b[1;33m\u001b[0m\u001b[1;33m\u001b[0m\u001b[0m\n\u001b[0;32m     53\u001b[0m         \u001b[0mprint\u001b[0m\u001b[1;33m(\u001b[0m\u001b[1;34m\"2. Query all tasks\"\u001b[0m\u001b[1;33m)\u001b[0m\u001b[1;33m\u001b[0m\u001b[1;33m\u001b[0m\u001b[0m\n\u001b[1;32m---> 54\u001b[1;33m         \u001b[0mselect_all_tasks\u001b[0m\u001b[1;33m(\u001b[0m\u001b[0mconn\u001b[0m\u001b[1;33m)\u001b[0m\u001b[1;33m\u001b[0m\u001b[1;33m\u001b[0m\u001b[0m\n\u001b[0m\u001b[0;32m     55\u001b[0m \u001b[1;33m\u001b[0m\u001b[0m\n\u001b[0;32m     56\u001b[0m \u001b[1;33m\u001b[0m\u001b[0m\n",
      "\u001b[1;32m<ipython-input-51-90440c8b04c2>\u001b[0m in \u001b[0;36mselect_all_tasks\u001b[1;34m(conn)\u001b[0m\n\u001b[0;32m     37\u001b[0m \u001b[1;33m\u001b[0m\u001b[0m\n\u001b[0;32m     38\u001b[0m     \"\"\"\n\u001b[1;32m---> 39\u001b[1;33m     \u001b[0mcur\u001b[0m\u001b[1;33m.\u001b[0m\u001b[0mexecute\u001b[0m\u001b[1;33m(\u001b[0m\u001b[0mquery1\u001b[0m\u001b[1;33m)\u001b[0m\u001b[1;33m\u001b[0m\u001b[1;33m\u001b[0m\u001b[0m\n\u001b[0m\u001b[0;32m     40\u001b[0m \u001b[1;33m\u001b[0m\u001b[0m\n\u001b[0;32m     41\u001b[0m     \u001b[0mrows\u001b[0m \u001b[1;33m=\u001b[0m \u001b[0mcur\u001b[0m\u001b[1;33m.\u001b[0m\u001b[0mfetchall\u001b[0m\u001b[1;33m(\u001b[0m\u001b[1;33m)\u001b[0m\u001b[1;33m\u001b[0m\u001b[1;33m\u001b[0m\u001b[0m\n",
      "\u001b[1;31mOperationalError\u001b[0m: no such function: MONTH"
     ]
    }
   ],
   "source": [
    "# import sqlite3\n",
    "from sqlite3 import Error\n",
    " \n",
    "def create_connection(db_file):\n",
    "    \"\"\" create a database connection to the SQLite database\n",
    "        specified by the db_file\n",
    "    :param db_file: database file\n",
    "    :return: Connection object or None\n",
    "    \"\"\"\n",
    "    conn = None\n",
    "    try:\n",
    "        conn = sqlite3.connect(db_file)\n",
    "        print(sqlite3.version)\n",
    "    except Error as e:\n",
    "        print(e)\n",
    " \n",
    "    return conn\n",
    " \n",
    "def select_all_tasks(conn):\n",
    "    \"\"\"\n",
    "    Query all rows in the tasks table\n",
    "    :param conn: the Connection object\n",
    "    :return:\n",
    "    \"\"\"\n",
    "    cur = conn.cursor()\n",
    "    \n",
    "    query1 = \"\"\"\n",
    "SELECT f.name, m.firstname||' '|| m.surname as Member,\n",
    "COUNT(f.name) as bookings,\n",
    "MONTH(starttime)\n",
    "FROM Members m\n",
    "INNER JOIN Bookings b on b.memid = m.memid\n",
    "INNER JOIN Facilities f on f.facid = b.facid\n",
    "WHERE m.memid > 0\n",
    "GROUP BY f.name, m.firstname||' '|| m.surname\n",
    "ORDER BY f.name, m.surname, m.firstname \n",
    "\n",
    "    \"\"\"\n",
    "    cur.execute(query1)\n",
    " \n",
    "    rows = cur.fetchall()\n",
    " \n",
    "    for row in rows:\n",
    "        print(row)\n",
    "\n",
    "\n",
    "def main():\n",
    "    database = \"sqlite_db_pythonsqlite.db\"\n",
    " \n",
    "    # create a database connection\n",
    "    conn = create_connection(database)\n",
    "    with conn: \n",
    "        print(\"2. Query all tasks\")\n",
    "        select_all_tasks(conn)\n",
    " \n",
    " \n",
    "if __name__ == '__main__':\n",
    "    main()"
   ]
  },
  {
   "cell_type": "code",
   "execution_count": null,
   "metadata": {},
   "outputs": [],
   "source": [
    "-- All the queries I can copy into the above."
   ]
  },
  {
   "cell_type": "code",
   "execution_count": null,
   "metadata": {},
   "outputs": [],
   "source": [
    "/* QUESTIONS \n",
    "/* Q1: Some of the facilities charge a fee to members, but some do not.\n",
    "Write a SQL query to produce a list of the names of the facilities that do. */\n",
    "\n",
    "\n",
    "/* Goal: pull up the member cost list, and then from that list, select the \n",
    "facilities that charge more than $0. Q1-5 uses the Facilities table.*/\n",
    "\n",
    "\n",
    "SELECT name\n",
    "FROM Facilities\n",
    "WHERE membercost > 0"
   ]
  },
  {
   "cell_type": "code",
   "execution_count": null,
   "metadata": {},
   "outputs": [],
   "source": [
    "/* Q2: How many facilities do not charge a fee to members? */\n",
    "\n",
    "\n",
    "/*Goal: This is just the inverse of Q1: literally, pull all the facilities that \n",
    "charge $0, and then COUNT them. */\n",
    "\n",
    "SELECT COUNT(name) #COUNT(*) will look across all columns for anything non-missing. Counting the rows that way.  \n",
    "FROM Facilities\n",
    "WHERE membercost = 0 "
   ]
  },
  {
   "cell_type": "code",
   "execution_count": null,
   "metadata": {},
   "outputs": [],
   "source": [
    "/* Q3: Write a SQL query to show a list of facilities that charge a fee to members,\n",
    "where the fee is less than 20% of the facility's monthly maintenance cost.\n",
    "Return the facid, facility name, member cost, and monthly maintenance of the\n",
    "facilities in question. */\n",
    "\n",
    "\n",
    "/*Goal: So we want to take the list from Q1, then divide the monthly maintenance\n",
    "cost of those facilities from it. IF it's <20% of the maintenance cost, then we\n",
    "show it in a new list. That list has to have the Facility ID, the name, the\n",
    "member cost, and the monthly maintenance. */\n",
    "\n",
    "SELECT facid, name, membercost, monthlymaintenance\n",
    "FROM facilities\n",
    "WHERE (membercost * 5) < monthlymaintenance\n",
    "\n",
    "# membercost / monthlymaintenance < 0.2 is the other way to do it."
   ]
  },
  {
   "cell_type": "code",
   "execution_count": null,
   "metadata": {},
   "outputs": [],
   "source": [
    "/* Q4: Write a SQL query to retrieve the details of facilities with ID 1 and 5.\n",
    "Try writing the query without using the OR operator. */\n",
    "\n",
    "\n",
    "/*Goal: to start writing it with the OR operator. EITHER ID 1 OR ID 5.\n",
    "Is there another way to do it? We'll talk to a mentor about that. */\n",
    "\n",
    "\n",
    "SELECT *\n",
    "FROM facilities\n",
    "WHERE facid = 1 OR facid = 5  --how to do this without OR?\n",
    "\n",
    "#WHERE facid IN 1, 5\n",
    "#IN checks for every element in the list being provided."
   ]
  },
  {
   "cell_type": "code",
   "execution_count": null,
   "metadata": {},
   "outputs": [],
   "source": [
    "\n",
    "/* Q5: Produce a list of facilities, with each labelled as\n",
    "'cheap' or 'expensive', depending on if their monthly maintenance cost is\n",
    "more than $100. Return the name and monthly maintenance of the facilities\n",
    "in question. */\n",
    "\n",
    "'''\n",
    "SELECT name, monthlymaintenance\n",
    "FROM facilities\n",
    "CASE \n",
    "\tWHEN monthlymaintenance < 100 THEN 'CHEAP' #i forget how to do this\n",
    "\tWHEN monthlymaintenance > 100 THEN 'EXPENSIVE'\n",
    "\tEND AS label_for_maintenance_cost\n",
    "'''\n",
    "\n",
    "#The above will throw an error.\n",
    "\n",
    "#We're creating a new column, which is why FROM is last, and END AS is needed, and there's a comma at the end of select (designating 3rd column)\n",
    "\n",
    "SELECT name, monthlymaintenance,\n",
    "CASE WHEN monthlymaintenance > 100\n",
    "THEN 'expensive'\n",
    "ELSE 'cheap'\n",
    "END AS label_for_maintenance_cost\n",
    "FROM Facilities\n",
    "\n",
    "\n",
    "#END AS allows us to create a new variable and give it a name.\n",
    "\n",
    "\n",
    "/*Goal: IF monthly maintenance cost of (ALL Facilities SELECTed) is >100,\n",
    "THEN we add a column and label that \"expensive;\" ELSE we label it \"cheap.\"\n",
    "All facilities should show the name and monthly maintenance cost, in addition\n",
    "to the label. */"
   ]
  },
  {
   "cell_type": "code",
   "execution_count": null,
   "metadata": {},
   "outputs": [],
   "source": [
    "/* Q6: You'd like to get the first and last name of the last member(s)\n",
    "who signed up. Try not to use the LIMIT clause for your solution. */\n",
    "\n",
    "\n",
    "SELECT m.surname, m.firstname, m.joindate\n",
    "FROM members AS m\n",
    "ORDER BY joindate DESC\n",
    "LIMIT 1 #or 3 if you want to make sure it is the most recent joindate &c\n",
    "\n",
    "#The below is how to do it without LIMIT.\n",
    "\n",
    "SELECT firstname, surname\n",
    "FROM Members\n",
    "WHERE joindate = (\n",
    "\tSELECT MAX(joindate)\n",
    "\tFROM Members )\n",
    "\n",
    "/*Goal: (How do I do this one? Review the LIMIT clause & why it's\n",
    "essential here.) You will now be using the MEMBERS table, and not \n",
    "the FACILITIES table. Use the Joindate column, and show the\n",
    "firstname and surname from those columns. */"
   ]
  },
  {
   "cell_type": "code",
   "execution_count": null,
   "metadata": {},
   "outputs": [],
   "source": [
    "/* Q7: Produce a list of all members who have used a tennis court.\n",
    "Include in your output the name of the court, and the name of the member\n",
    "formatted as a single column. Ensure no duplicate data, and order by\n",
    "the member name. */\n",
    "\n",
    "\n",
    "SELECT m.firstname|| ','|| m.surname AS fullname, f.name\n",
    "FROM members AS m \n",
    "JOIN Bookings AS b ON m.memid = b.memid\n",
    "JOIN Facilities AS f ON b.facid = f.facid\n",
    "WHERE b.facid IN (0, 1)\n",
    "ORDER BY fullname DESC\n",
    "\n",
    "\n",
    "\n",
    "#DISTINCT = no duplicates\n",
    "\n",
    "/*Goal: From the MEMBERS table, -- I can't find the tennis court column or line.\n",
    "I'll have to do some looking in order to find it. (is it in a different\n",
    "table?) But the idea is the same as earlier question(s) -- look for the \n",
    "\"TRUE\" or \"YES\" answer in a column, cross-reference it with the firstname \n",
    "and surname columns, and join those columns so that you have one column\n",
    "called fullname. ORDER BY member name. I found the tennis court 1 & 2,\n",
    "it's in the name column of FACILITIES. So we have to JOIN that to the members\n",
    "table and see which ones overlap (that's an INNER JOIN, right).*/"
   ]
  },
  {
   "cell_type": "code",
   "execution_count": null,
   "metadata": {},
   "outputs": [],
   "source": [
    "/* Q8: Produce a list of bookings on the day of 2012-09-14 which\n",
    "will cost the member (or guest) more than $30. Remember that guests have\n",
    "different costs to members (the listed costs are per half-hour 'slot'), and\n",
    "the guest user's ID is always 0. Include in your output the name of the\n",
    "facility, the name of the member formatted as a single column, and the cost.\n",
    "Order by descending cost, and do not use any subqueries. */\n",
    "\n",
    "\n",
    "#it runs, but nothing shows.\n",
    "\n",
    "SELECT b.starttime, f.name, (m.firstname|| ','|| m.surname) AS fullname, cost\n",
    "CASE\n",
    "\tWHEN m.memid = 0\n",
    "\tTHEN b.slots * f.guestcost\n",
    "    ELSE b.slots * f.membercost\n",
    "\tEND AS cost\n",
    "FROM bookings AS b \n",
    "JOIN facilities AS f ON b.facid = f.facid \n",
    "JOIN members AS m ON b.memid = m.memid\n",
    "WHERE starttime >= '2012-09-14' \n",
    "    AND starttime < '2012-09-15'\n",
    "    AND CASE\n",
    "    WHEN m.memid = 0\n",
    "\tTHEN b.slots * f.guestcost\n",
    "    ELSE b.slots * f.membercost\n",
    "\tEND > 30 \n",
    "ORDER BY cost DESC    \n",
    "   \n",
    "\n",
    "-- First casewhen is to create the column\n",
    "-- Second casewhen is to filter the information\n",
    "   ''' \n",
    "    ((m.memid = 0\n",
    "\t\tAND b.slots * f.guestcost > 30)\n",
    "\tOR (m.memid != 0\n",
    "\t\tAND b.slots * f.membercost > 30))\n",
    "\n",
    "\n",
    "#ON represents one or more JOIN conditions by which we could match records from one table to other.\n",
    "\n",
    "\n",
    "#which will cost the member or guest more than $30.\n",
    "\n",
    "\n",
    "/*Goal: Elaborate further: ORDER BY DESCENDING. Reference both members and \n",
    "guests. No subqueries.*/"
   ]
  },
  {
   "cell_type": "code",
   "execution_count": 40,
   "metadata": {},
   "outputs": [
    {
     "ename": "SyntaxError",
     "evalue": "invalid syntax (<ipython-input-40-2df34c4d9816>, line 1)",
     "output_type": "error",
     "traceback": [
      "\u001b[1;36m  File \u001b[1;32m\"<ipython-input-40-2df34c4d9816>\"\u001b[1;36m, line \u001b[1;32m1\u001b[0m\n\u001b[1;33m    *(Q9:, This, time,, produce, the, same, result, as, in, Q8,, but, using, a, subquery., */)\u001b[0m\n\u001b[1;37m        ^\u001b[0m\n\u001b[1;31mSyntaxError\u001b[0m\u001b[1;31m:\u001b[0m invalid syntax\n"
     ]
    }
   ],
   "source": [
    "/* Q9: This time, produce the same result as in Q8, but using a subquery. */\n",
    "\n",
    "SELECT facility, fullname, cost\n",
    "FROM (SELECT m.firstname|| ','|| m.surname AS fullname, f.name AS facility,\n",
    "CASE\n",
    "\tWHEN m.memid = 0\n",
    "\tTHEN b.slots * f.guestcost\n",
    "    ELSE b.slots * f.membercost\n",
    "\tEND AS cost\n",
    "FROM members AS m \n",
    "JOIN facilities AS f ON b.facid = f.facid \n",
    "JOIN bookings AS b ON b.memid = m.memid\n",
    "WHERE b.starttime >= '2012-09-14' \n",
    "    AND b.starttime < '2012-09-15')\n",
    "    \tWHERE cost > 30 \n",
    "ORDER BY cost DESC\n",
    "\n",
    "'''\n",
    "SELECT member, facility, cost\n",
    "FROM (SELECT Members.surname AS member, Facilities.name AS facility,\n",
    "CASE\n",
    "WHEN Members.memid =0\n",
    "THEN Bookings.slots * Facilities.guestcost\n",
    "ELSE Bookings.slots * Facilities.membercost\n",
    "END AS cost\n",
    "FROM Members\n",
    "JOIN Bookings ON Members.memid = Bookings.memid\n",
    "JOIN Facilities ON Bookings.facid = Facilities.facid\n",
    "WHERE Bookings.starttime >= '2012-09-14'\n",
    "AND Bookings.starttime < '2012-09-15') \n",
    "AS bookings\n",
    "WHERE cost >30\n",
    "ORDER BY cost DESC\n",
    "\n",
    "    '''\n",
    "\n",
    "#Review subqueries. Outer select statement, can replace that with cost >30\n",
    "\n",
    "\n",
    "/*Goal: Q8 as a subquery.*/\n",
    "\n",
    "\n",
    "# Note certain differences in SQLite, e.g. || instead of CONCAT. "
   ]
  },
  {
   "cell_type": "code",
   "execution_count": null,
   "metadata": {},
   "outputs": [],
   "source": [
    "/* PART 2: SQLite\n",
    "/* We now want you to jump over to a local instance of the database on your machine. \n",
    "\n",
    "Copy and paste the LocalSQLConnection.py script into an empty Jupyter notebook, and run it. \n",
    "\n",
    "Make sure that the SQLFiles folder containing thes files is in your working directory, and\n",
    "that you haven't changed the name of the .db file from 'sqlite\\db\\pythonsqlite'.\n",
    "\n",
    "You should see the output from the initial query 'SELECT * FROM FACILITIES'.\n",
    "\n",
    "Complete the remaining tasks in the Jupyter interface. If you struggle, feel free to go back\n",
    "to the PHPMyAdmin interface as and when you need to. \n",
    "\n",
    "You'll need to paste your query into value of the 'query1' variable and run the code block again to get an output.\n",
    " \n",
    "QUESTIONS:\n",
    "/* Q10: Produce a list of facilities with a total revenue less than 1000.\n",
    "The output of facility name and total revenue, sorted by revenue. Remember\n",
    "that there's a different cost for guests and members! */\n",
    "\n",
    "SELECT f.name,\n",
    "CASE\n",
    "\tWHEN m.memid = 0\n",
    "\tTHEN b.slots * f.guestcost\n",
    "\tELSE b.slots * f.membercost\n",
    "\tEND AS revenue\n",
    "FROM facilities as f \n",
    "JOIN bookings as b ON b.facid = f.facid \n",
    "JOIN members as m ON m.memid = b.memid\n",
    "GROUP BY f.name -- before having because having is a condition (those come after group by)\n",
    "HAVING revenue < 1000 \n",
    "ORDER BY revenue\n",
    "\n",
    "\n",
    "#WHERE tends to work for subqueries\n",
    "-- do I need to join anything else?\n",
    "-- is anything missing here?\n",
    "-- in Q8/Q9, I was calling slots * membercost \"cost.\" Same as revenue?\n",
    "\n",
    "\n",
    "/* slots times member cost for that person (multiplying columns from two different tables to represent revenue.) */"
   ]
  },
  {
   "cell_type": "code",
   "execution_count": null,
   "metadata": {},
   "outputs": [],
   "source": [
    "/* Q11: Produce a report of members and who recommended them in \n",
    "alphabetic surname,firstname order */\n",
    "\n",
    "-- \n",
    "\n",
    "\n",
    "SELECT (m.surname|| ','|| m.firstname) AS recmd, (rcmd.firstname|| ','|| rcmd.surname) as Member\n",
    "FROM members AS m\n",
    "INNER JOIN Members rcmd on rcmd.recommendedby = m.memid\n",
    "\n",
    "#ORDER BY member, recommended_by ASC\n",
    "\n",
    "\n",
    "-- rcmd another name/alias for members, so match it with itself.\n",
    "#Self-join is joining the table with itself."
   ]
  },
  {
   "cell_type": "code",
   "execution_count": null,
   "metadata": {},
   "outputs": [],
   "source": [
    "/* Q12: Find the facilities with their usage by member, but not \n",
    "guests */\n",
    "\n",
    "SELECT f.name, (m.surname|| ','|| m.firstname) AS member, COUNT(*) \n",
    "FROM facilities AS f\n",
    "JOIN bookings as b ON b.facid = f.facid \n",
    "JOIN members as m ON m.memid = b.memid\n",
    "WHERE m.memid > 0\n",
    "GROUP BY f.name, member\n",
    "ORDER BY f.name -- usage the number of times it's being used, so no need to sub for revenue here.\n",
    "\n",
    "\n",
    "\n",
    "'''\n",
    "CASE WHEN b.memid != 0\n",
    "\tTHEN COUNT(b.slots) -- need \"distinct\" here?\n",
    "\tEND AS usage\n",
    "FROM bookings as b\n",
    "\n",
    "'''\n",
    "-- is this finished?\n",
    "\n",
    "/*Goal: I need to COUNT slots and assign them to their \n",
    "memid, so long as the memid isn't zero. */"
   ]
  },
  {
   "cell_type": "code",
   "execution_count": null,
   "metadata": {},
   "outputs": [],
   "source": [
    "/* Q13: Find the facilities usage by month, but not guests */ -- but not guests?... \n",
    "\n",
    "\n",
    "#-- I don't even understand what this means since it's all in Sept?\n",
    "# Legit don't know what they mean by usage. Could be the one booking, or the slots in that booking.\n",
    "\n",
    "\n",
    "#Need: facility month sum(slots)\n",
    "\n",
    "SELECT f.name, m.firstname||' '|| m.surname as Member,\n",
    "COUNT(f.name) as bookings,\n",
    "MONTH(starttime)\n",
    "FROM members AS m\n",
    "INNER JOIN Bookings b on b.memid = m.memid\n",
    "INNER JOIN Facilities f on f.facid = b.facid\n",
    "WHERE m.memid > 0\n",
    "GROUP BY f.name, m.firstname||' '|| m.surname, MONTH(starttime)\n",
    "ORDER BY f.name, m.surname, m.firstname \n",
    "\n",
    "\n",
    "\n",
    "#Do we need this? AND year(starttime) = 2012\n",
    "#Subquery for tables we want to easily create and then pull from after.\n",
    "\n",
    "\n",
    "\n",
    "'''\n",
    "SELECT f.name, MONTH(f.starttime), SUM(b.slots)\n",
    "WHERE m.memid > 0\n",
    "FROM facilities as f\n",
    "JOIN bookings as b ON b.facid = f.facid \n",
    "JOIN members as m ON m.memid = b.memid\n",
    "GROUP BY f.name, m.surname|| ','|| m.firstname)\n",
    "\n",
    "#ORDER BY f.name"
   ]
  }
 ],
 "metadata": {
  "kernelspec": {
   "display_name": "Python 3",
   "language": "python",
   "name": "python3"
  },
  "language_info": {
   "codemirror_mode": {
    "name": "ipython",
    "version": 3
   },
   "file_extension": ".py",
   "mimetype": "text/x-python",
   "name": "python",
   "nbconvert_exporter": "python",
   "pygments_lexer": "ipython3",
   "version": "3.7.4"
  }
 },
 "nbformat": 4,
 "nbformat_minor": 2
}
